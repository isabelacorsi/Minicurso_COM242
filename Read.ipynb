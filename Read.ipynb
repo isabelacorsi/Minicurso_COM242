{
 "cells": [
  {
   "cell_type": "code",
   "execution_count": 3,
   "metadata": {},
   "outputs": [],
   "source": [
    "import addressbook_pb2\n",
    "import sys\n",
    "import colorama\n",
    "from colorama import Fore, Style"
   ]
  },
  {
   "cell_type": "code",
   "execution_count": 4,
   "metadata": {},
   "outputs": [
    {
     "name": "stdout",
     "output_type": "stream",
     "text": [
      "Usage: C:\\Users\\Usuario\\anaconda3\\lib\\site-packages\\ipykernel_launcher.py ADDRESS_BOOK_FILE\n"
     ]
    },
    {
     "ename": "AttributeError",
     "evalue": "'AnsiFore' object has no attribute 'blue'",
     "output_type": "error",
     "traceback": [
      "\u001b[1;31m---------------------------------------------------------------------------\u001b[0m",
      "\u001b[1;31mAttributeError\u001b[0m                            Traceback (most recent call last)",
      "\u001b[1;32m<ipython-input-4-77f9863246d2>\u001b[0m in \u001b[0;36m<module>\u001b[1;34m\u001b[0m\n\u001b[0;32m     29\u001b[0m \u001b[0mf\u001b[0m\u001b[1;33m.\u001b[0m\u001b[0mclose\u001b[0m\u001b[1;33m(\u001b[0m\u001b[1;33m)\u001b[0m\u001b[1;33m\u001b[0m\u001b[1;33m\u001b[0m\u001b[0m\n\u001b[0;32m     30\u001b[0m \u001b[1;33m\u001b[0m\u001b[0m\n\u001b[1;32m---> 31\u001b[1;33m \u001b[0mListPeople\u001b[0m\u001b[1;33m(\u001b[0m\u001b[0maddress_book\u001b[0m\u001b[1;33m)\u001b[0m\u001b[1;33m\u001b[0m\u001b[1;33m\u001b[0m\u001b[0m\n\u001b[0m",
      "\u001b[1;32m<ipython-input-4-77f9863246d2>\u001b[0m in \u001b[0;36mListPeople\u001b[1;34m(address_book)\u001b[0m\n\u001b[0;32m      2\u001b[0m \u001b[1;32mdef\u001b[0m \u001b[0mListPeople\u001b[0m\u001b[1;33m(\u001b[0m\u001b[0maddress_book\u001b[0m\u001b[1;33m)\u001b[0m\u001b[1;33m:\u001b[0m\u001b[1;33m\u001b[0m\u001b[1;33m\u001b[0m\u001b[0m\n\u001b[0;32m      3\u001b[0m   \u001b[1;32mfor\u001b[0m \u001b[0mperson\u001b[0m \u001b[1;32min\u001b[0m \u001b[0maddress_book\u001b[0m\u001b[1;33m.\u001b[0m\u001b[0mpeople\u001b[0m\u001b[1;33m:\u001b[0m\u001b[1;33m\u001b[0m\u001b[1;33m\u001b[0m\u001b[0m\n\u001b[1;32m----> 4\u001b[1;33m     \u001b[0mprint\u001b[0m \u001b[1;33m(\u001b[0m\u001b[0mFore\u001b[0m\u001b[1;33m.\u001b[0m\u001b[0mblue\u001b[0m \u001b[1;33m+\u001b[0m \u001b[1;34m\"Person ID:\"\u001b[0m\u001b[1;33m,\u001b[0m \u001b[0mperson\u001b[0m\u001b[1;33m.\u001b[0m\u001b[0mid\u001b[0m\u001b[1;33m)\u001b[0m\u001b[1;33m\u001b[0m\u001b[1;33m\u001b[0m\u001b[0m\n\u001b[0m\u001b[0;32m      5\u001b[0m     \u001b[0mprint\u001b[0m \u001b[1;33m(\u001b[0m\u001b[1;34m\"  Name:\"\u001b[0m\u001b[1;33m,\u001b[0m \u001b[0mperson\u001b[0m\u001b[1;33m.\u001b[0m\u001b[0mname\u001b[0m\u001b[1;33m)\u001b[0m\u001b[1;33m\u001b[0m\u001b[1;33m\u001b[0m\u001b[0m\n\u001b[0;32m      6\u001b[0m     \u001b[1;32mif\u001b[0m \u001b[0mperson\u001b[0m\u001b[1;33m.\u001b[0m\u001b[0mHasField\u001b[0m\u001b[1;33m(\u001b[0m\u001b[1;34m'email'\u001b[0m\u001b[1;33m)\u001b[0m\u001b[1;33m:\u001b[0m\u001b[1;33m\u001b[0m\u001b[1;33m\u001b[0m\u001b[0m\n",
      "\u001b[1;31mAttributeError\u001b[0m: 'AnsiFore' object has no attribute 'blue'"
     ]
    }
   ],
   "source": [
    "\n",
    "# Iterates though all people in the AddressBook and prints info about them.\n",
    "def ListPeople(address_book):\n",
    "  for person in address_book.people:\n",
    "    print (Fore.blue + \"Person ID:\", person.id)\n",
    "    print (\"  Name:\", person.name)\n",
    "    if person.HasField('email'):\n",
    "      print (\"  E-mail address:\", person.email)\n",
    "\n",
    "    for phone_number in person.phones:\n",
    "      if phone_number.type == addressbook_pb2.Person.PhoneType.MOBILE:\n",
    "        print (\"  Mobile phone #: \"),\n",
    "      elif phone_number.type == addressbook_pb2.Person.PhoneType.HOME:\n",
    "        print (\"  Home phone #: \"),\n",
    "      elif phone_number.type == addressbook_pb2.Person.PhoneType.WORK:\n",
    "        print (\"  Work phone #: \"),\n",
    "      print (phone_number.number)\n",
    "\n",
    "# Main procedure:  Reads the entire address book from a file and prints all\n",
    "#   the information inside.\n",
    "if len(sys.argv) != 2:\n",
    "  print (\"Usage:\", sys.argv[0], \"ADDRESS_BOOK_FILE\")\n",
    "\n",
    "\n",
    "address_book = addressbook_pb2.AddressBook()\n",
    "\n",
    "# Read the existing address book.\n",
    "f = open(sys.argv[1], \"rb\")\n",
    "address_book.ParseFromString(f.read())\n",
    "f.close()\n",
    "\n",
    "ListPeople(address_book)"
   ]
  },
  {
   "cell_type": "code",
   "execution_count": null,
   "metadata": {},
   "outputs": [],
   "source": []
  }
 ],
 "metadata": {
  "kernelspec": {
   "display_name": "Python 3",
   "language": "python",
   "name": "python3"
  },
  "language_info": {
   "codemirror_mode": {
    "name": "ipython",
    "version": 3
   },
   "file_extension": ".py",
   "mimetype": "text/x-python",
   "name": "python",
   "nbconvert_exporter": "python",
   "pygments_lexer": "ipython3",
   "version": "3.8.5"
  }
 },
 "nbformat": 4,
 "nbformat_minor": 4
}
