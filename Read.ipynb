{
 "cells": [
  {
   "cell_type": "code",
   "execution_count": 11,
   "metadata": {},
   "outputs": [],
   "source": [
    "import addressbook_pb2\n",
    "import sys"
   ]
  },
  {
   "cell_type": "code",
   "execution_count": 12,
   "metadata": {},
   "outputs": [
    {
     "name": "stdout",
     "output_type": "stream",
     "text": [
      "Usage: C:\\Users\\Usuario\\anaconda3\\lib\\site-packages\\ipykernel_launcher.py ADDRESS_BOOK_FILE\n",
      "ID: 1\n",
      "  Nome: Isabela Corsi\n",
      "  E-mail: isabelacorsi@icloud.com\n",
      "  Número da casa: 123456789\n",
      "ID: 1\n",
      "  Nome: 1\n",
      "  E-mail: 1\n",
      "  Número da casa: 1\n",
      "ID: 1\n",
      "  Nome: Isabela Corsi\n",
      "  E-mail: isabelacorsi@gmail.com\n",
      "  Número de celular: 199999999\n",
      "ID: 1\n",
      "  Nome: Isabela Corsi\n",
      "  E-mail: isacorsi@gmail.com\n",
      "  Número de celular: 1999999999\n",
      "ID: 123\n",
      "  Nome: nenem\n",
      "  E-mail: nenem.com\n",
      "  Número da casa: 1223445678\n"
     ]
    }
   ],
   "source": [
    "# Interação para mostrar todos os registros feitos em \"AddPerson\"\n",
    "def ListPeople(address_book):\n",
    "  for person in address_book.people:\n",
    "    print (\"ID:\", person.id)\n",
    "    print (\"  Nome:\", person.name)\n",
    "    if person.HasField('email'):\n",
    "      print (\"  E-mail:\", person.email)\n",
    "\n",
    "    for phone_number in person.phones:\n",
    "      if phone_number.type == addressbook_pb2.Person.PhoneType.MOBILE:\n",
    "        print (\"  Número de celular: \" + (phone_number.number)),\n",
    "      elif phone_number.type == addressbook_pb2.Person.PhoneType.HOME:\n",
    "        print (\"  Número da casa: \" + (phone_number.number)),\n",
    "      elif phone_number.type == addressbook_pb2.Person.PhoneType.WORK:\n",
    "        print (\"  Número do trabalho : \" + (phone_number.number)),\n",
    "      \n",
    "if len(sys.argv) != 2:\n",
    "  print (\"Usage:\", sys.argv[0], \"ADDRESS_BOOK_FILE\")\n",
    "\n",
    "address_book = addressbook_pb2.AddressBook()\n",
    "\n",
    "f = open(sys.argv[1], \"rb\")\n",
    "address_book.ParseFromString(f.read())\n",
    "f.close()\n",
    "\n",
    "ListPeople(address_book)"
   ]
  },
  {
   "cell_type": "code",
   "execution_count": null,
   "metadata": {},
   "outputs": [],
   "source": []
  }
 ],
 "metadata": {
  "kernelspec": {
   "display_name": "Python 3",
   "language": "python",
   "name": "python3"
  },
  "language_info": {
   "codemirror_mode": {
    "name": "ipython",
    "version": 3
   },
   "file_extension": ".py",
   "mimetype": "text/x-python",
   "name": "python",
   "nbconvert_exporter": "python",
   "pygments_lexer": "ipython3",
   "version": "3.8.5"
  }
 },
 "nbformat": 4,
 "nbformat_minor": 4
}
