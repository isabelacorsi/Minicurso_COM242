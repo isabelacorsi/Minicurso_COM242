{
 "cells": [
  {
   "cell_type": "code",
   "execution_count": 1,
   "metadata": {},
   "outputs": [
    {
     "name": "stdout",
     "output_type": "stream",
     "text": [
      "Requirement already satisfied: google in c:\\users\\usuario\\anaconda3\\lib\\site-packages (3.0.0)\n",
      "Requirement already satisfied: beautifulsoup4 in c:\\users\\usuario\\anaconda3\\lib\\site-packages (from google) (4.9.3)\n",
      "Requirement already satisfied: soupsieve>1.2; python_version >= \"3.0\" in c:\\users\\usuario\\anaconda3\\lib\\site-packages (from beautifulsoup4->google) (2.0.1)\n"
     ]
    }
   ],
   "source": [
    "!pip install google"
   ]
  },
  {
   "cell_type": "code",
   "execution_count": 2,
   "metadata": {},
   "outputs": [],
   "source": [
    "import addressbook_pb2\n",
    "import sys"
   ]
  },
  {
   "cell_type": "code",
   "execution_count": 3,
   "metadata": {},
   "outputs": [
    {
     "name": "stdout",
     "output_type": "stream",
     "text": [
      "Usage: C:\\Users\\Usuario\\anaconda3\\lib\\site-packages\\ipykernel_launcher.py ADDRESS_BOOK_FILE\n",
      "-f: Could not open file.  Creating a new one.\n",
      "Coloque o número ID: 01\n",
      "Insira seu nome: Isabela Corsi\n",
      "Insira seu email (caso não tenha, deixe em branco): isabelacorsi@icloud.com\n",
      "Insira seu número de telefone (caso não tenha, deixe em branco): 123456789\n",
      "É o número do seu celular, da sua casa ou do seu trabalho? casa\n"
     ]
    }
   ],
   "source": [
    "#Função para preencher Person message com os dados inseridos\n",
    "def PromptForAddress(person):\n",
    "  person.id = int(input(\"Coloque o número ID: \")) #Enter person ID number\n",
    "  person.name = input(\"Insira seu nome: \") #Enter name\n",
    "\n",
    "  email = input(\"Insira seu email (caso não tenha, deixe em branco): \")#Enter email address (blank for none)\n",
    "  if email != \"\":\n",
    "    person.email = email\n",
    "\n",
    "  while True:\n",
    "    number = input(\"Insira seu número de telefone (caso não tenha, deixe em branco): \") #Enter a phone number (or leave blank to finish): \n",
    "    if number == \"\":\n",
    "      break\n",
    "\n",
    "    phone_number = person.phones.add()\n",
    "    phone_number.number = number\n",
    "\n",
    "    type = input(\"É o número do seu celular, da sua casa ou do seu trabalho? \") #Is this a mobile, home, or work phone? \n",
    "    if type == \"celular\":\n",
    "      phone_number.type = addressbook_pb2.Person.PhoneType.MOBILE\n",
    "      break\n",
    "    elif type == \"casa\":\n",
    "      phone_number.type = addressbook_pb2.Person.PhoneType.HOME\n",
    "      break\n",
    "    elif type == \"trabalho\":\n",
    "      phone_number.type = addressbook_pb2.Person.PhoneType.WORK\n",
    "      break\n",
    "    else:\n",
    "      print (\"Tipo de telefone incorreto!\") #Unknown phone type; leaving as default value.\n",
    "\n",
    "\n",
    "#adiciona uma pessoa com base na entrada do usuário e, em seguida, escreve de volta para o mesmo arquivo\n",
    "if len(sys.argv) != 2:\n",
    "  print (\"Usage:\", sys.argv[0], \"ADDRESS_BOOK_FILE\")\n",
    " \n",
    "\n",
    "address_book = addressbook_pb2.AddressBook()\n",
    "\n",
    "# Read the existing address book.\n",
    "try:\n",
    "  f = open(sys.argv[1], \"rb\")\n",
    "  address_book.ParseFromString(f.read())\n",
    "  f.close()\n",
    "except IOError:\n",
    "  print (sys.argv[1] + \": Could not open file.  Creating a new one.\")\n",
    "\n",
    "# Add an address.\n",
    "PromptForAddress(address_book.people.add())\n",
    "\n",
    "# Write the new address book back to disk.\n",
    "f = open(sys.argv[1], \"wb\")\n",
    "f.write(address_book.SerializeToString())\n",
    "f.close()"
   ]
  },
  {
   "cell_type": "code",
   "execution_count": null,
   "metadata": {},
   "outputs": [],
   "source": []
  }
 ],
 "metadata": {
  "kernelspec": {
   "display_name": "Python 3",
   "language": "python",
   "name": "python3"
  },
  "language_info": {
   "codemirror_mode": {
    "name": "ipython",
    "version": 3
   },
   "file_extension": ".py",
   "mimetype": "text/x-python",
   "name": "python",
   "nbconvert_exporter": "python",
   "pygments_lexer": "ipython3",
   "version": "3.8.5"
  }
 },
 "nbformat": 4,
 "nbformat_minor": 4
}
